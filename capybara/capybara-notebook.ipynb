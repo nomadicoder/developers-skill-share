{
 "cells": [
  {
   "cell_type": "markdown",
   "metadata": {},
   "source": [
    "# Capybara\n",
    "## Steven Ng\n",
    "### Developer Skill Share\n",
    "### July 7, 2016"
   ]
  },
  {
   "cell_type": "markdown",
   "metadata": {},
   "source": [
    "## Integration Testing\n",
    "\n",
    "- End-to-End Test\n",
    "- Acceptance Test\n",
    "- Full Stack Test\n",
    "- Behavior Driven Development\n",
    "- Outside-In\n"
   ]
  },
  {
   "cell_type": "markdown",
   "metadata": {},
   "source": []
  },
  {
   "cell_type": "markdown",
   "metadata": {},
   "source": [
    "## References\n",
    "- [Railscasts #275: How I Test](https://www.youtube.com/watch?v=AQ-Vf157Ju8)\n"
   ]
  }
 ],
 "metadata": {
  "kernelspec": {
   "display_name": "Ruby 2.4.1",
   "language": "ruby",
   "name": "ruby"
  },
  "language_info": {
   "file_extension": ".rb",
   "mimetype": "application/x-ruby",
   "name": "ruby",
   "version": "2.4.1"
  }
 },
 "nbformat": 4,
 "nbformat_minor": 2
}
