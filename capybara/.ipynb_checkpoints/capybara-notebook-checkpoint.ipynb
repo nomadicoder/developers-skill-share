{
 "cells": [
  {
   "cell_type": "markdown",
   "metadata": {},
   "source": [
    "# Capybara\n",
    "## Steven Ng\n",
    "### Developer Skill Share\n",
    "### July 7, 2016"
   ]
  },
  {
   "cell_type": "markdown",
   "metadata": {},
   "source": [
    "## Integration Testing\n",
    "\n",
    "- End-to-End Test\n",
    "- Acceptance Test\n",
    "- Full Stack Test\n",
    "- Behavior Driven Development\n",
    "- Outside-In\n"
   ]
  },
  {
   "cell_type": "markdown",
   "metadata": {},
   "source": [
    "# Install\n",
    "\n",
    "Gemfile:"
   ]
  },
  {
   "cell_type": "code",
   "execution_count": null,
   "metadata": {
    "collapsed": true
   },
   "outputs": [],
   "source": [
    "group :development, :test do\n",
    "  gem 'solr_wrapper', '>= 0.3'\n",
    "  gem 'rspec-rails'\n",
    "  gem 'database_cleaner'\n",
    "  gem 'factory_girl_rails'\n",
    "  gem 'capybara'\n",
    "  gem 'simplecov', require: false\n",
    "  gem 'guard-rspec', require: false\n",
    "end"
   ]
  },
  {
   "cell_type": "markdown",
   "metadata": {},
   "source": [
    "Generate an rspec feature spec"
   ]
  },
  {
   "cell_type": "code",
   "execution_count": null,
   "metadata": {
    "collapsed": true
   },
   "outputs": [],
   "source": [
    "rails generate rspec:feature indices"
   ]
  },
  {
   "cell_type": "markdown",
   "metadata": {},
   "source": [
    "An Index page feature spec"
   ]
  },
  {
   "cell_type": "code",
   "execution_count": null,
   "metadata": {
    "collapsed": true
   },
   "outputs": [],
   "source": [
    "require 'rails_helper'\n",
    "require 'traject'\n",
    "require 'traject/command_line'\n",
    "require 'yaml'\n",
    "\n",
    "RSpec.feature \"Indices\", type: :feature do\n",
    "  let (:fixtures) {\n",
    "    YAML.load_file(\"#{fixture_path}/features.yml\")\n",
    "  }\n",
    "\n",
    "  feature \"Home Page\" do\n",
    "    context \"publicly available pages\" do\n",
    "      scenario \"User visits home page\" do\n",
    "        visit '/'\n",
    "        expect(page).to have_text \"Welcome!\"\n",
    "        within(\"#facets\") do\n",
    "            expect(page).to have_text \"Date\"\n",
    "        end\n",
    "      end\n",
    "\n",
    "    end\n",
    "  end\n",
    "\n",
    "  feature \"Catalog\" do\n",
    "    let (:title) { \"Academic freedom in an age of conformity\" }\n",
    "    let (:results_url) { \"http://www.example.com/?utf8=%E2%9C%93&search_field=all_fields&q=Academic+freedom+in+an+age+of+conformity\" }\n",
    "    scenario \"Search\" do\n",
    "      visit '/'\n",
    "      fill_in 'q', with: title\n",
    "      click_button 'Search'\n",
    "      expect(current_url).to eq results_url\n",
    "      within(\".document-position-0 h3\") do\n",
    "        expect(page).to have_text title \n",
    "      end\n",
    "      within(\".document-metadata\") do\n",
    "        expect(page).to have_text \"Resource Type:\"\n",
    "        expect(page).to have_text \"Book and Print\"\n",
    "        expect(page).to have_text \"Status/Location:\"\n",
    "      end\n",
    "    end\n",
    "  end\n",
    "\n",
    "  feature \"Document\" do\n",
    "    let (:item) {\n",
    "      fixtures.fetch(\"simple_search\")\n",
    "    }\n",
    "\n",
    "    let (:item_url) {\n",
    "      \"#{Capybara.default_host}/catalog/#{item['doc_id']}\"\n",
    "    }\n",
    "\n",
    "    scenario \"Search\" do\n",
    "      visit '/'\n",
    "      fill_in 'q', with: item['title']\n",
    "      click_button 'Search'\n",
    "      expect(current_url).to eq item['url']\n",
    "      within(\".document-position-0\") do\n",
    "        click_link item['title']\n",
    "        expect(current_url).to eq item_url\n",
    "        within(\"h3\") do\n",
    "          expect(page).to have_text item['title']\n",
    "        end\n",
    "        click_link item['title']\n",
    "      end\n",
    "    end\n",
    "\n",
    "    scenario \"User visits a document directly\" do\n",
    "      visit \"catalog/#{item['doc_id']}\"\n",
    "      expect(current_url).to eq item_url\n",
    "      expect(page).to have_text(item['title'])\n",
    "    end\n",
    "  end\n",
    "\n",
    "  feature \"MARC Fields\" do\n",
    "    let (:item) {\n",
    "      fixtures.fetch(\"title_statement\")\n",
    "    }\n",
    "\n",
    "    scenario \"User visits a document with full title statement\" do\n",
    "      visit \"catalog/#{item['doc_id']}\"\n",
    "      expect(page).to have_text(item['title'])\n",
    "    end\n",
    "\n",
    "  end\n",
    "end"
   ]
  },
  {
   "cell_type": "markdown",
   "metadata": {},
   "source": [
    "## Demo"
   ]
  },
  {
   "cell_type": "code",
   "execution_count": null,
   "metadata": {},
   "outputs": [],
   "source": [
    "$ bundle exec rake rspec[spec/features]"
   ]
  },
  {
   "cell_type": "raw",
   "metadata": {},
   "source": [
    "Test solr server running: http://localhost:8985/solr/#/blacklight-core-test\n",
    "\n",
    "^C to stop\n",
    "\n",
    "2017-07-07T13:57:59+00:00  INFO traject (2.3.3) executing with: `-c app/models/traject_indexer.rb spec/fixtures/marc_fixture.xml`\n",
    "2017-07-07T13:57:59+00:00  INFO Reading from spec/fixtures/marc_fixture.xml\n",
    "2017-07-07T13:57:59+00:00  INFO    Traject::SolrJsonWriter writing to 'http://127.0.0.1:8985/solr/blacklight-core-test/update/json' in batches of 100 with 1 bg threads\n",
    "2017-07-07T13:57:59+00:00  INFO    Indexer with 1 processing threads, reader: Traject::MarcReader and writer: Traject::SolrJsonWriter\n",
    "2017-07-07T13:58:00+00:00  INFO Traject::SolrJsonWriter sending commit to solr at url http://127.0.0.1:8985/solr/blacklight-core-test/update/json...\n",
    "2017-07-07T13:58:00+00:00  INFO finished Indexer#process: 202 records in 1.677 seconds; 120.5 records/second overall.\n",
    "2017-07-07T13:58:01+00:00  INFO traject (2.3.3) executing with: `-c app/models/traject_indexer.rb -x commit`\n",
    "2017-07-07T13:58:01+00:00  INFO Sending commit to: http://127.0.0.1:8985/solr/blacklight-core-test/update?commit=true\n",
    "2017-07-07T13:58:01+00:00  INFO <?xml version=\"1.0\" encoding=\"UTF-8\"?>\n",
    "<response>\n",
    "<lst name=\"responseHeader\"><int name=\"status\">0</int><int name=\"QTime\">1</int></lst>\n",
    "</response>\n",
    "\n",
    ".....\n",
    "\n",
    "Finished in 6.44 seconds (files took 4.79 seconds to load)\n",
    "5 examples, 0 failures\n",
    "\n",
    "Coverage report generated for RSpec to /var/www/tulcob/coverage. 129 / 582 LOC (22.16%) covered."
   ]
  },
  {
   "cell_type": "markdown",
   "metadata": {},
   "source": [
    "## References\n",
    "- [Capybara](http://www.rubydoc.info/gems/capybara)\n",
    "- [RSpec Feature Specs](https://relishapp.com/rspec/rspec-rails/v/3-4/docs/feature-specs/feature-spec)\n",
    "- [Railscasts #275: How I Test](https://www.youtube.com/watch?v=AQ-Vf157Ju8)\n",
    "- [Rails 4 Test Perscriptions](https://pragprog.com/book/nrtest2/rails-4-test-prescriptions)\n"
   ]
  }
 ],
 "metadata": {
  "kernelspec": {
   "display_name": "Ruby 2.4.1",
   "language": "ruby",
   "name": "ruby"
  },
  "language_info": {
   "file_extension": ".rb",
   "mimetype": "application/x-ruby",
   "name": "ruby",
   "version": "2.4.1"
  }
 },
 "nbformat": 4,
 "nbformat_minor": 2
}
